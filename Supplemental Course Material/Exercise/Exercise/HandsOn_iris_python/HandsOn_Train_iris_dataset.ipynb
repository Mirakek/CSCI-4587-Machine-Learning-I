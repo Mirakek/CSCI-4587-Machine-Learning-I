{
 "cells": [
  {
   "cell_type": "markdown",
   "metadata": {},
   "source": [
    "# Train the Iris data and Test the Model\n",
    "\n",
    "* Iris is perhaps the best known database to be found in the pattern recognition literature.\n",
    "\n",
    "\n",
    "\n",
    "<img src=./Petal-sepal.png width= \"300\" border = \"1\">\n",
    "\n",
    "**Figure 1**: Flower showing petal and sepal [1]. \n",
    "\n",
    "* The data set contains 3 classes of 50 instances each, where each class refers to a type of iris plant.  \n",
    "\n",
    "* One class is linearly separable from the other 2; the latter are NOT linearly separable from each other.\n",
    " \n",
    "    - Number of Instances: 150 (50 in each of three classes)\n",
    "    - Number of Attributes/features: 4 numeric, predictive attributes and the class\n",
    "    - Attribute Information:\n",
    "        1. sepal length in cm\n",
    "        2. sepal width in cm\n",
    "        3. petal length in cm\n",
    "        4. petal width in cm\n",
    "        5. class: \n",
    "           - Iris Setosa\n",
    "           - Iris Versicolour\n",
    "           - Iris Virginica\n",
    "\n",
    "\n",
    "\n",
    "\n",
    "\n",
    "<img src=./iris.png width= \"750\" border = \"1\">\n",
    "\n",
    "**Figure 2**: Three categories of Iris flowers [2]."
   ]
  },
  {
   "cell_type": "code",
   "execution_count": null,
   "metadata": {},
   "outputs": [],
   "source": [
    "# Load pandas library. We want to use its DataFrame which supports tabular form.\n",
    "import pandas as pd"
   ]
  },
  {
   "cell_type": "code",
   "execution_count": null,
   "metadata": {},
   "outputs": [],
   "source": [
    "# Load the dataset from the current directory into a DataFrame\n",
    "iris=pd.read_csv(\"iris.arff\")"
   ]
  },
  {
   "cell_type": "code",
   "execution_count": null,
   "metadata": {},
   "outputs": [],
   "source": [
    "# See the content of the iris dataset\n",
    "iris"
   ]
  },
  {
   "cell_type": "code",
   "execution_count": null,
   "metadata": {},
   "outputs": [],
   "source": [
    "# Want to see a few rows (actually 4, but 5 including the header)\n",
    "iris.head()"
   ]
  },
  {
   "cell_type": "code",
   "execution_count": null,
   "metadata": {},
   "outputs": [],
   "source": [
    "# Want to see a few last rows\n",
    "iris.tail()"
   ]
  },
  {
   "cell_type": "code",
   "execution_count": null,
   "metadata": {},
   "outputs": [],
   "source": [
    "# Information about the dataset\n",
    "iris.info()"
   ]
  },
  {
   "cell_type": "code",
   "execution_count": null,
   "metadata": {},
   "outputs": [],
   "source": [
    "# Some Statistical info. of the dataset\n",
    "iris.describe()"
   ]
  },
  {
   "cell_type": "code",
   "execution_count": null,
   "metadata": {},
   "outputs": [],
   "source": [
    "# Want to see the column\n",
    "iris.columns"
   ]
  },
  {
   "cell_type": "code",
   "execution_count": null,
   "metadata": {},
   "outputs": [],
   "source": [
    "# I am intertested to see the unique values in the class column because I want to replace the text with the numeric values\n",
    "iris['class '].unique()"
   ]
  },
  {
   "cell_type": "code",
   "execution_count": null,
   "metadata": {},
   "outputs": [],
   "source": [
    "# Visualizing pairwise relationships\n",
    "import seaborn as sns # for more on seaborn, see https://seaborn.pydata.org/"
   ]
  },
  {
   "cell_type": "code",
   "execution_count": null,
   "metadata": {},
   "outputs": [],
   "source": [
    "sns.pairplot(iris); #';' avoid outputing the internal location info here"
   ]
  },
  {
   "cell_type": "code",
   "execution_count": null,
   "metadata": {},
   "outputs": [],
   "source": [
    "# Want to see the histogram of the numerical columns using malplotlib \n",
    "import matplotlib.pyplot as plt\n",
    "%matplotlib inline\n",
    "iris.hist()\n",
    "plt.show()"
   ]
  },
  {
   "cell_type": "code",
   "execution_count": null,
   "metadata": {},
   "outputs": [],
   "source": [
    "# I want to replace 'Iris-setosa' with 0, 'Iris-versicolor' with 1, 'Iris-virginica' with 2\n",
    "iris.replace(\"Iris-setosa\",0)"
   ]
  },
  {
   "cell_type": "code",
   "execution_count": null,
   "metadata": {},
   "outputs": [],
   "source": [
    "# But the above table is a view - and the replacement will not be a permanent change [we need to use option: inplace=True]\n",
    "iris"
   ]
  },
  {
   "cell_type": "code",
   "execution_count": null,
   "metadata": {},
   "outputs": [],
   "source": [
    "# We also do not want to change the original dataset, so we make a copy\n",
    "\n",
    "iriscp=iris.copy()\n",
    "iriscp"
   ]
  },
  {
   "cell_type": "code",
   "execution_count": null,
   "metadata": {},
   "outputs": [],
   "source": [
    "iriscp.replace(to_replace=\"Iris-setosa\",value=0,inplace=True)\n",
    "#iriscp.replace(\"Iris-setosa\",0,inplace=True) # This will work as well"
   ]
  },
  {
   "cell_type": "code",
   "execution_count": null,
   "metadata": {},
   "outputs": [],
   "source": [
    "iriscp"
   ]
  },
  {
   "cell_type": "code",
   "execution_count": null,
   "metadata": {},
   "outputs": [],
   "source": [
    "# Instead of replace them one-by-one I want to replace them all at once\n",
    "# So I make a dictionary (dict) first\n",
    "myreplacementlist= {\"Iris-setosa\":0, \"Iris-versicolor\":1,\"Iris-virginica\":2}"
   ]
  },
  {
   "cell_type": "code",
   "execution_count": null,
   "metadata": {},
   "outputs": [],
   "source": [
    "myreplacementlist\n",
    "# Note: I want the replacement to work only for column 'class '"
   ]
  },
  {
   "cell_type": "code",
   "execution_count": null,
   "metadata": {},
   "outputs": [],
   "source": [
    "# Testing the dict\n",
    "myreplacementlist['Iris-versicolor']"
   ]
  },
  {
   "cell_type": "code",
   "execution_count": null,
   "metadata": {},
   "outputs": [],
   "source": [
    "iriscp.replace({'class ': myreplacementlist}, inplace=True)"
   ]
  },
  {
   "cell_type": "code",
   "execution_count": null,
   "metadata": {},
   "outputs": [],
   "source": [
    "iriscp"
   ]
  },
  {
   "cell_type": "code",
   "execution_count": null,
   "metadata": {},
   "outputs": [],
   "source": [
    "# Now, all columns are numerical column - I want to run the pairplot again\n",
    "sns.pairplot(iriscp);"
   ]
  },
  {
   "cell_type": "code",
   "execution_count": null,
   "metadata": {},
   "outputs": [],
   "source": [
    "# Want to examine how features help separate classes\n",
    "sns.relplot(x='petal_length',y='petal_width',data=iriscp, hue='class ', style='class ');"
   ]
  },
  {
   "cell_type": "code",
   "execution_count": null,
   "metadata": {},
   "outputs": [],
   "source": [
    "# I want to save this table into a file\n",
    "iriscp.to_csv('myiriscp.csv')"
   ]
  },
  {
   "cell_type": "code",
   "execution_count": null,
   "metadata": {},
   "outputs": [],
   "source": [
    "# read the file to check whether it is saved or not \n",
    "!cat 'myiriscp.csv'"
   ]
  },
  {
   "cell_type": "code",
   "execution_count": null,
   "metadata": {},
   "outputs": [],
   "source": [
    "# I can also use window's type command \n",
    "!type myiriscp.csv"
   ]
  },
  {
   "cell_type": "code",
   "execution_count": null,
   "metadata": {},
   "outputs": [],
   "source": [
    "# Now, I see index of each row is saved as well, which is a new item and it is now the 1st column of the table.\n",
    "# I do not want the index column to be saved - so, I use a modified command below:\n",
    "iriscp.to_csv('myiriscp_nonewcolumn.csv', index=False) # So, I made the index=False and it worked (see below)"
   ]
  },
  {
   "cell_type": "code",
   "execution_count": null,
   "metadata": {},
   "outputs": [],
   "source": [
    "# I want to read from this file - which I might need to do in future. \n",
    "# I am reading in, say, 'irisnewcp' DataFrame\n",
    "irisnewcp = pd.read_csv('myiriscp_nonewcolumn.csv')\n",
    "irisnewcp"
   ]
  },
  {
   "cell_type": "code",
   "execution_count": null,
   "metadata": {},
   "outputs": [],
   "source": [
    "# I see the index column above but not in the file - so it is created on the fly. Check the columns:\n",
    "irisnewcp.columns"
   ]
  },
  {
   "cell_type": "code",
   "execution_count": null,
   "metadata": {},
   "outputs": [],
   "source": [
    "# I see the dataset is originally sorted (class-wise), which is not a good idea for machine learning - let us unsort it\n",
    "from sklearn.utils import shuffle # NOTE: sklearn (Scikit-learn) will be our main Machine Learning python library"
   ]
  },
  {
   "cell_type": "code",
   "execution_count": null,
   "metadata": {},
   "outputs": [],
   "source": [
    "irisnewcp_sh=shuffle(irisnewcp, random_state=345) # 'random_state' is used for initializing the internal random number generator"
   ]
  },
  {
   "cell_type": "code",
   "execution_count": null,
   "metadata": {},
   "outputs": [],
   "source": [
    "irisnewcp_sh"
   ]
  },
  {
   "cell_type": "code",
   "execution_count": null,
   "metadata": {},
   "outputs": [],
   "source": [
    "X=irisnewcp_sh.iloc[:,0:4] # 'iloc' is integer index based, so you have to specify rows and columns by their integer value of the index\n",
    "X"
   ]
  },
  {
   "cell_type": "code",
   "execution_count": null,
   "metadata": {},
   "outputs": [],
   "source": [
    "y=irisnewcp_sh.iloc[:,4:5]"
   ]
  },
  {
   "cell_type": "code",
   "execution_count": null,
   "metadata": {},
   "outputs": [],
   "source": [
    "y"
   ]
  },
  {
   "cell_type": "code",
   "execution_count": null,
   "metadata": {},
   "outputs": [],
   "source": [
    "# Let us use kNN, with k=5, from sklearn \n",
    "from sklearn.neighbors import KNeighborsClassifier "
   ]
  },
  {
   "cell_type": "code",
   "execution_count": null,
   "metadata": {},
   "outputs": [],
   "source": [
    "# create an instance of KNeighborsClassifier along with necessary parameters\n",
    "knn = KNeighborsClassifier(n_neighbors=5)  "
   ]
  },
  {
   "cell_type": "code",
   "execution_count": null,
   "metadata": {},
   "outputs": [],
   "source": [
    "# print the instance variable to see the parameters of knn\n",
    "print(knn) "
   ]
  },
  {
   "cell_type": "code",
   "execution_count": null,
   "metadata": {},
   "outputs": [],
   "source": [
    "# Train the classifier with the dataset\n",
    "knn.fit(X,y)"
   ]
  },
  {
   "cell_type": "code",
   "execution_count": null,
   "metadata": {},
   "outputs": [],
   "source": [
    "# Since index column (& header) is a problem now, I need to drop the index column (& header) from both X and y \n",
    "# Also, sklearn expects X, y in array\n",
    "X=X.values.tolist() # 'values' are the content without the header and index of the DataFrame. toList converts into array\n",
    "X"
   ]
  },
  {
   "cell_type": "code",
   "execution_count": null,
   "metadata": {},
   "outputs": [],
   "source": [
    "# flatten() will remove the header and will convert y in a 1d array. \n",
    "#You can also use .ravel().  .ravel() returns a view and .flatten() return a copy\n",
    "y=y.values.flatten() \n",
    "y"
   ]
  },
  {
   "cell_type": "code",
   "execution_count": null,
   "metadata": {},
   "outputs": [],
   "source": [
    "# Now, try to train again\n",
    "knn.fit(X,y)"
   ]
  },
  {
   "cell_type": "code",
   "execution_count": null,
   "metadata": {},
   "outputs": [],
   "source": [
    "# create sample test dataset => expected answers are: 0, 2, 1\n",
    "X_test = [4.8, 2.9, 1.54, 0.15], [5.9, 2.5, 5.5, 1.2], [5.9, 3.0, 4.6, 1.4] "
   ]
  },
  {
   "cell_type": "code",
   "execution_count": null,
   "metadata": {},
   "outputs": [],
   "source": [
    "# predict the class to which the sample falls into\n",
    "knn.predict(X_test)"
   ]
  },
  {
   "cell_type": "markdown",
   "metadata": {},
   "source": [
    "## Save and Load the Model"
   ]
  },
  {
   "cell_type": "code",
   "execution_count": null,
   "metadata": {},
   "outputs": [],
   "source": [
    "# Python pickle module is used for serializing and de-serializing a Python object structure\n",
    "import pickle\n",
    "# Note: you can also use joblib\n",
    "# joblib is optimized to be fast and robust on large data in particular\n",
    "# to write use 'joblib.dump'  & to read use 'joblib.load'"
   ]
  },
  {
   "cell_type": "code",
   "execution_count": null,
   "metadata": {},
   "outputs": [],
   "source": [
    "# Save the model\n",
    "f1=open('iris_saved_knn_model','wb') # wb => write binary\n",
    "pickle.dump(knn, f1)"
   ]
  },
  {
   "cell_type": "code",
   "execution_count": null,
   "metadata": {},
   "outputs": [],
   "source": [
    "# better close (or flush) a file when done.\n",
    "f1.close()"
   ]
  },
  {
   "cell_type": "code",
   "execution_count": null,
   "metadata": {},
   "outputs": [],
   "source": [
    "# Load the model & Test\n",
    "f2=open('iris_saved_knn_model', 'rb')\n",
    "loaded_model = pickle.load(f2)"
   ]
  },
  {
   "cell_type": "code",
   "execution_count": null,
   "metadata": {},
   "outputs": [],
   "source": [
    "X_test = [4.8, 2.9, 1.54, 0.15], [5.9, 2.5, 5.5, 1.2], [5.9, 3.0, 4.6, 1.4]"
   ]
  },
  {
   "cell_type": "code",
   "execution_count": null,
   "metadata": {},
   "outputs": [],
   "source": [
    "loaded_model.predict(X_test)"
   ]
  },
  {
   "cell_type": "code",
   "execution_count": null,
   "metadata": {},
   "outputs": [],
   "source": [
    "# If you know the test answers and want to compute the accuracy then do the following\n",
    "Y_test=[0,2,1]\n",
    "accuracy = loaded_model.score(X_test, Y_test)"
   ]
  },
  {
   "cell_type": "code",
   "execution_count": null,
   "metadata": {},
   "outputs": [],
   "source": [
    "print(accuracy)"
   ]
  },
  {
   "cell_type": "code",
   "execution_count": null,
   "metadata": {},
   "outputs": [],
   "source": [
    "f2.close()"
   ]
  },
  {
   "cell_type": "markdown",
   "metadata": {},
   "source": [
    "References:\n",
    "\n",
    "[1] https://en.wikipedia.org/wiki/Sepal\n",
    "\n",
    "[2] http://suruchifialoke.com/2016-10-13-machine-learning-tutorial-iris-classification/"
   ]
  }
 ],
 "metadata": {
  "kernelspec": {
   "display_name": "Python 3",
   "language": "python",
   "name": "python3"
  },
  "language_info": {
   "codemirror_mode": {
    "name": "ipython",
    "version": 3
   },
   "file_extension": ".py",
   "mimetype": "text/x-python",
   "name": "python",
   "nbconvert_exporter": "python",
   "pygments_lexer": "ipython3",
   "version": "3.7.4"
  }
 },
 "nbformat": 4,
 "nbformat_minor": 2
}
